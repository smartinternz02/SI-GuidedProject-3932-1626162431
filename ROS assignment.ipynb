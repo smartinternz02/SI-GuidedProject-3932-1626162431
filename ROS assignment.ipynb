{
 "cells": [
  {
   "cell_type": "markdown",
   "metadata": {},
   "source": [
    "# ROS Assignment 2\n",
    "## Abhiram Ajith Kumar"
   ]
  },
  {
   "cell_type": "code",
   "execution_count": 1,
   "metadata": {},
   "outputs": [
    {
     "name": "stdout",
     "output_type": "stream",
     "text": [
      "Enter number 112\n",
      "Enter number 24\n",
      "Addition \t  a+b=\t 16.0\n",
      "Subtraction \t  a-b=\t 8.0\n",
      "Multiplication \t  a*b=\t 48.0\n",
      "Division \t  a/b=\t 3.0\n",
      "Modulus \t  a%b=\t 0.0\n",
      "Floor Divisision  a//b=\t 3.0\n",
      "Exponent \t  a**b=\t 20736.0\n"
     ]
    }
   ],
   "source": [
    "a = float(input(\"Enter number 1\"))\n",
    "b = float(input(\"Enter number 2\"))\n",
    "print(\"Addition \\t  a+b=\\t\",a+b)\n",
    "print(\"Subtraction \\t  a-b=\\t\",a-b)\n",
    "print(\"Multiplication \\t  a*b=\\t\",a*b)\n",
    "print(\"Division \\t  a/b=\\t\",a/b)\n",
    "print(\"Modulus \\t  a%b=\\t\",a%b)\n",
    "print(\"Floor Divisision  a//b=\\t\",a//b)\n",
    "print(\"Exponent \\t  a**b=\\t\",a**b)"
   ]
  },
  {
   "cell_type": "code",
   "execution_count": 2,
   "metadata": {},
   "outputs": [
    {
     "name": "stdout",
     "output_type": "stream",
     "text": [
      "Enter number of elements5\n",
      "enter element3\n",
      "enter element2\n",
      "enter element6\n",
      "enter element8\n",
      "enter element4\n",
      "ACCESSING THE ELEMENTS IS:\n",
      "3\n",
      "2\n",
      "6\n",
      "8\n",
      "4\n",
      "Maximum: 8\n",
      "Minimum: 2\n",
      "[2, 3, 4, 6, 8]\n"
     ]
    }
   ],
   "source": [
    "n = int(input(\"Enter number of elements\"))\n",
    "list1 = []\n",
    "for i in range(0,n):\n",
    "    list1.append(int(input(\"enter element\")))\n",
    "print(\"ACCESSING THE ELEMENTS IS:\")\n",
    "\n",
    "for i in list1:\n",
    "    print(i)\n",
    "\n",
    "print(\"Maximum:\",max(list1))\n",
    "print(\"Minimum:\",min(list1))\n",
    "list1.sort()\n",
    "print(list1)"
   ]
  },
  {
   "cell_type": "code",
   "execution_count": 6,
   "metadata": {},
   "outputs": [
    {
     "name": "stdout",
     "output_type": "stream",
     "text": [
      "Values Using For Loop\n",
      "Abhiram\n",
      "Keyur\n",
      "Tejaswi\n",
      "Subbu\n"
     ]
    }
   ],
   "source": [
    "j = {0:\"Abhiram\",1:\"Keyur\",2:\"Tejaswi\",4:\"Subbu\"}\n",
    "print(\"Values Using For Loop\")\n",
    "for i in j:\n",
    "    \n",
    "    print(j[i])"
   ]
  },
  {
   "cell_type": "code",
   "execution_count": 7,
   "metadata": {},
   "outputs": [
    {
     "data": {
      "text/plain": [
       "dict_keys([0, 1, 2, 4])"
      ]
     },
     "execution_count": 7,
     "metadata": {},
     "output_type": "execute_result"
    }
   ],
   "source": [
    "j.keys()\n"
   ]
  },
  {
   "cell_type": "code",
   "execution_count": 8,
   "metadata": {},
   "outputs": [
    {
     "name": "stdout",
     "output_type": "stream",
     "text": [
      "Keys Using For Loop\n",
      "0\n",
      "1\n",
      "2\n",
      "4\n"
     ]
    }
   ],
   "source": [
    "print(\"Keys Using For Loop\")\n",
    "for i in j.keys():\n",
    "    \n",
    "    print (i)"
   ]
  }
 ],
 "metadata": {
  "kernelspec": {
   "display_name": "Python 3",
   "language": "python",
   "name": "python3"
  },
  "language_info": {
   "codemirror_mode": {
    "name": "ipython",
    "version": 3
   },
   "file_extension": ".py",
   "mimetype": "text/x-python",
   "name": "python",
   "nbconvert_exporter": "python",
   "pygments_lexer": "ipython3",
   "version": "3.8.5"
  }
 },
 "nbformat": 4,
 "nbformat_minor": 4
}
