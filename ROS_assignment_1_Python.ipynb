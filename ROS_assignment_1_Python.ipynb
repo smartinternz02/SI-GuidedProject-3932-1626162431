{
 "cells": [
  {
   "cell_type": "code",
   "execution_count": null,
   "metadata": {},
   "outputs": [],
   "source": [
    "#python Assignment SMART INTERNZ"
   ]
  },
  {
   "cell_type": "code",
   "execution_count": 5,
   "metadata": {},
   "outputs": [
    {
     "name": "stdout",
     "output_type": "stream",
     "text": [
      "Name:\tasdasd\n",
      "Age\t20001\n",
      "Unlike You, ALice is not an undead, immorta vampire.\n"
     ]
    }
   ],
   "source": [
    "name = input(\"Name:\\t\")\n",
    "age = int(input(\"Age\\t\"))\n",
    "if name == \"Alice\":\n",
    "    print(\"Hi, Alice.\")\n",
    "elif(age<12):\n",
    "    print(\"You are not Alice,kiddo\")\n",
    "elif(age>100 and age<=2000):\n",
    "    print(\"You are not Alice, grandma\")\n",
    "elif(age>2000):\n",
    "    print(\"Unlike You, ALice is not an undead, immortal vampire.\")\n",
    "    "
   ]
  },
  {
   "cell_type": "code",
   "execution_count": null,
   "metadata": {},
   "outputs": [],
   "source": []
  }
 ],
 "metadata": {
  "kernelspec": {
   "display_name": "Python 3",
   "language": "python",
   "name": "python3"
  }
 },
 "nbformat": 4,
 "nbformat_minor": 4
}
